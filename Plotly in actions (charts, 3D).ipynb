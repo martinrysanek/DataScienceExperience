{
    "metadata": {
        "kernelspec": {
            "language": "python", 
            "display_name": "Python 3.5 (Experimental) with Spark 2.0", 
            "name": "python3-spark20"
        }, 
        "language_info": {
            "version": "3.5.2", 
            "nbconvert_exporter": "python", 
            "codemirror_mode": {
                "version": 3, 
                "name": "ipython"
            }, 
            "mimetype": "text/x-python", 
            "name": "python", 
            "pygments_lexer": "ipython3", 
            "file_extension": ".py"
        }
    }, 
    "nbformat_minor": 1, 
    "cells": [
        {
            "metadata": {}, 
            "cell_type": "markdown", 
            "source": "# Plotly in actions (charts, 3D)"
        }, 
        {
            "execution_count": 1, 
            "outputs": [
                {
                    "output_type": "stream", 
                    "name": "stdout", 
                    "text": "Requirement already satisfied (use --upgrade to upgrade): plotly in /gpfs/global_fs01/sym_shared/YPProdSpark/user/s592-6f4f7c45de4f1c-20cd40afb201/.local/lib/python3.5/site-packages\nRequirement already satisfied (use --upgrade to upgrade): pytz in /usr/local/src/conda3_runtime.v21/4.1.1/lib/python3.5/site-packages (from plotly)\nRequirement already satisfied (use --upgrade to upgrade): nbformat>=4.2 in /gpfs/global_fs01/sym_shared/YPProdSpark/user/s592-6f4f7c45de4f1c-20cd40afb201/.local/lib/python3.5/site-packages (from plotly)\nRequirement already satisfied (use --upgrade to upgrade): decorator>=4.0.6 in /usr/local/src/conda3_runtime.v21/4.1.1/lib/python3.5/site-packages (from plotly)\nRequirement already satisfied (use --upgrade to upgrade): requests in /usr/local/src/conda3_runtime.v21/4.1.1/lib/python3.5/site-packages (from plotly)\nRequirement already satisfied (use --upgrade to upgrade): six in /usr/local/src/conda3_runtime.v21/4.1.1/lib/python3.5/site-packages (from plotly)\nRequirement already satisfied (use --upgrade to upgrade): jsonschema!=2.5.0,>=2.4 in /usr/local/src/conda3_runtime.v21/4.1.1/lib/python3.5/site-packages (from nbformat>=4.2->plotly)\nRequirement already satisfied (use --upgrade to upgrade): traitlets>=4.1 in /usr/local/src/conda3_runtime.v21/4.1.1/lib/python3.5/site-packages (from nbformat>=4.2->plotly)\nRequirement already satisfied (use --upgrade to upgrade): jupyter-core in /usr/local/src/conda3_runtime.v21/4.1.1/lib/python3.5/site-packages (from nbformat>=4.2->plotly)\nRequirement already satisfied (use --upgrade to upgrade): ipython-genutils in /usr/local/src/conda3_runtime.v21/4.1.1/lib/python3.5/site-packages (from nbformat>=4.2->plotly)\nRequirement already satisfied (use --upgrade to upgrade): cufflinks in /gpfs/global_fs01/sym_shared/YPProdSpark/user/s592-6f4f7c45de4f1c-20cd40afb201/.local/lib/python3.5/site-packages\nRequirement already satisfied (use --upgrade to upgrade): colorlover>=0.2 in /gpfs/global_fs01/sym_shared/YPProdSpark/user/s592-6f4f7c45de4f1c-20cd40afb201/.local/lib/python3.5/site-packages (from cufflinks)\nRequirement already satisfied (use --upgrade to upgrade): plotly>=1.7.6 in /gpfs/global_fs01/sym_shared/YPProdSpark/user/s592-6f4f7c45de4f1c-20cd40afb201/.local/lib/python3.5/site-packages (from cufflinks)\nRequirement already satisfied (use --upgrade to upgrade): pandas in /usr/local/src/conda3_runtime.v21/4.1.1/lib/python3.5/site-packages (from cufflinks)\nRequirement already satisfied (use --upgrade to upgrade): requests in /usr/local/src/conda3_runtime.v21/4.1.1/lib/python3.5/site-packages (from plotly>=1.7.6->cufflinks)\nRequirement already satisfied (use --upgrade to upgrade): nbformat>=4.2 in /gpfs/global_fs01/sym_shared/YPProdSpark/user/s592-6f4f7c45de4f1c-20cd40afb201/.local/lib/python3.5/site-packages (from plotly>=1.7.6->cufflinks)\nRequirement already satisfied (use --upgrade to upgrade): decorator>=4.0.6 in /usr/local/src/conda3_runtime.v21/4.1.1/lib/python3.5/site-packages (from plotly>=1.7.6->cufflinks)\nRequirement already satisfied (use --upgrade to upgrade): pytz in /usr/local/src/conda3_runtime.v21/4.1.1/lib/python3.5/site-packages (from plotly>=1.7.6->cufflinks)\nRequirement already satisfied (use --upgrade to upgrade): six in /usr/local/src/conda3_runtime.v21/4.1.1/lib/python3.5/site-packages (from plotly>=1.7.6->cufflinks)\nRequirement already satisfied (use --upgrade to upgrade): python-dateutil>=2 in /usr/local/src/conda3_runtime.v21/4.1.1/lib/python3.5/site-packages (from pandas->cufflinks)\nRequirement already satisfied (use --upgrade to upgrade): numpy>=1.7.0 in /usr/local/src/conda3_runtime.v21/4.1.1/lib/python3.5/site-packages (from pandas->cufflinks)\nRequirement already satisfied (use --upgrade to upgrade): jsonschema!=2.5.0,>=2.4 in /usr/local/src/conda3_runtime.v21/4.1.1/lib/python3.5/site-packages (from nbformat>=4.2->plotly>=1.7.6->cufflinks)\nRequirement already satisfied (use --upgrade to upgrade): traitlets>=4.1 in /usr/local/src/conda3_runtime.v21/4.1.1/lib/python3.5/site-packages (from nbformat>=4.2->plotly>=1.7.6->cufflinks)\nRequirement already satisfied (use --upgrade to upgrade): jupyter-core in /usr/local/src/conda3_runtime.v21/4.1.1/lib/python3.5/site-packages (from nbformat>=4.2->plotly>=1.7.6->cufflinks)\nRequirement already satisfied (use --upgrade to upgrade): ipython-genutils in /usr/local/src/conda3_runtime.v21/4.1.1/lib/python3.5/site-packages (from nbformat>=4.2->plotly>=1.7.6->cufflinks)\nRequirement already satisfied (use --upgrade to upgrade): pandas in /usr/local/src/conda3_runtime.v21/4.1.1/lib/python3.5/site-packages\nRequirement already satisfied (use --upgrade to upgrade): python-dateutil>=2 in /usr/local/src/conda3_runtime.v21/4.1.1/lib/python3.5/site-packages (from pandas)\nRequirement already satisfied (use --upgrade to upgrade): pytz>=2011k in /usr/local/src/conda3_runtime.v21/4.1.1/lib/python3.5/site-packages (from pandas)\nRequirement already satisfied (use --upgrade to upgrade): numpy>=1.7.0 in /usr/local/src/conda3_runtime.v21/4.1.1/lib/python3.5/site-packages (from pandas)\nRequirement already satisfied (use --upgrade to upgrade): six>=1.5 in /usr/local/src/conda3_runtime.v21/4.1.1/lib/python3.5/site-packages (from python-dateutil>=2->pandas)\nRequirement already satisfied (use --upgrade to upgrade): numpy in /usr/local/src/conda3_runtime.v21/4.1.1/lib/python3.5/site-packages\n"
                }
            ], 
            "cell_type": "code", 
            "metadata": {}, 
            "source": "!pip install plotly\n!pip install cufflinks\n!pip install pandas\n!pip install numpy"
        }, 
        {
            "execution_count": 2, 
            "outputs": [], 
            "cell_type": "code", 
            "metadata": {
                "collapsed": true
            }, 
            "source": "import plotly\nimport plotly.plotly as py\nimport cufflinks as cf\nimport pandas as pd\nimport numpy as np"
        }, 
        {
            "execution_count": 3, 
            "outputs": [], 
            "cell_type": "code", 
            "metadata": {
                "collapsed": true
            }, 
            "source": "import plotly.tools as tls\nplotly.tools.set_credentials_file(username='ondrejkral', api_key='N1ywOxMfMlRsf6pMEiPS')\n"
        }, 
        {
            "metadata": {}, 
            "cell_type": "markdown", 
            "source": "# Genrate random data 1"
        }, 
        {
            "execution_count": 4, 
            "outputs": [], 
            "cell_type": "code", 
            "metadata": {
                "collapsed": true
            }, 
            "source": "df = cf.datagen.lines()"
        }, 
        {
            "execution_count": 5, 
            "outputs": [
                {
                    "output_type": "execute_result", 
                    "execution_count": 5, 
                    "data": {
                        "text/html": "<iframe id=\"igraph\" scrolling=\"no\" style=\"border:none;\" seamless=\"seamless\" src=\"https://plot.ly/~ondrejkral/1.embed\" height=\"525px\" width=\"100%\"></iframe>", 
                        "text/plain": "<plotly.tools.PlotlyDisplay object>"
                    }, 
                    "metadata": {}
                }
            ], 
            "cell_type": "code", 
            "metadata": {
                "scrolled": true
            }, 
            "source": "df.iplot(kind='scatter', filename='cf-simple-line')"
        }, 
        {
            "metadata": {}, 
            "cell_type": "markdown", 
            "source": "# Generate random data 2"
        }, 
        {
            "execution_count": 6, 
            "outputs": [
                {
                    "output_type": "execute_result", 
                    "execution_count": 6, 
                    "data": {
                        "text/html": "<iframe id=\"igraph\" scrolling=\"no\" style=\"border:none;\" seamless=\"seamless\" src=\"https://plot.ly/~ondrejkral/3.embed\" height=\"525px\" width=\"100%\"></iframe>", 
                        "text/plain": "<plotly.tools.PlotlyDisplay object>"
                    }, 
                    "metadata": {}
                }
            ], 
            "cell_type": "code", 
            "metadata": {
                "scrolled": true
            }, 
            "source": "df = pd.DataFrame(np.random.randn(100, 4), columns=['a', 'b', 'c', 'd'])\ndf.scatter_matrix(filename='scatter-matrix', world_readable=True)"
        }, 
        {
            "metadata": {}, 
            "cell_type": "markdown", 
            "source": "# Import dataset from external site"
        }, 
        {
            "execution_count": 7, 
            "outputs": [], 
            "cell_type": "code", 
            "metadata": {
                "collapsed": true
            }, 
            "source": "df = pd.read_csv('http://www.stat.ubc.ca/~jenny/notOcto/STAT545A/examples/gapminder/data/gapminderDataFiveYear.txt', sep='\\t')\ndf2007 = df[df.year==2007]\ndf1952 = df[df.year==1952]"
        }, 
        {
            "execution_count": 8, 
            "outputs": [
                {
                    "output_type": "execute_result", 
                    "execution_count": 8, 
                    "data": {
                        "text/html": "<iframe id=\"igraph\" scrolling=\"no\" style=\"border:none;\" seamless=\"seamless\" src=\"https://plot.ly/~ondrejkral/6.embed\" height=\"525px\" width=\"100%\"></iframe>", 
                        "text/plain": "<plotly.tools.PlotlyDisplay object>"
                    }, 
                    "metadata": {}
                }
            ], 
            "cell_type": "code", 
            "metadata": {}, 
            "source": "df2007.iplot(kind='bubble', x='gdpPercap', y='lifeExp', size='pop', text='country',\n             xTitle='GDP per Capita', yTitle='Life Expectancy',\n             filename='simple-bubble-chart')"
        }, 
        {
            "metadata": {
                "collapsed": true
            }, 
            "cell_type": "markdown", 
            "source": "# 3D Plotting"
        }, 
        {
            "execution_count": 9, 
            "outputs": [], 
            "cell_type": "code", 
            "metadata": {
                "collapsed": true
            }, 
            "source": "import plotly.graph_objs as go"
        }, 
        {
            "execution_count": 10, 
            "outputs": [
                {
                    "output_type": "execute_result", 
                    "execution_count": 10, 
                    "data": {
                        "text/html": "<iframe id=\"igraph\" scrolling=\"no\" style=\"border:none;\" seamless=\"seamless\" src=\"https://plot.ly/~ondrejkral/10.embed\" height=\"525px\" width=\"100%\"></iframe>", 
                        "text/plain": "<plotly.tools.PlotlyDisplay object>"
                    }, 
                    "metadata": {}
                }
            ], 
            "cell_type": "code", 
            "metadata": {}, 
            "source": "x, y, z = np.random.multivariate_normal(np.array([0,0,0]), np.eye(3), 200).transpose()\ntrace1 = go.Scatter3d(\n    x=x,\n    y=y,\n    z=z,\n    mode='markers',\n    marker=dict(\n        size=12,\n        line=dict(\n            color='rgba(217, 217, 217, 0.14)',\n            width=0.5\n        ),\n        opacity=0.8\n    )\n)\n\nx2, y2, z2 = np.random.multivariate_normal(np.array([0,0,0]), np.eye(3), 200).transpose()\ntrace2 = go.Scatter3d(\n    x=x2,\n    y=y2,\n    z=z2,\n    mode='markers',\n    marker=dict(\n        color='rgb(127, 127, 127)',\n        size=12,\n        symbol='circle',\n        line=dict(\n            color='rgb(204, 204, 204)',\n            width=1\n        ),\n        opacity=0.9\n    )\n)\ndata = [trace1, trace2]\nlayout = go.Layout(\n    margin=dict(\n        l=0,\n        r=0,\n        b=0,\n        t=0\n    )\n)\nfig = go.Figure(data=data, layout=layout)\npy.iplot(fig, filename='simple-3d-scatter')"
        }, 
        {
            "execution_count": 11, 
            "outputs": [
                {
                    "output_type": "execute_result", 
                    "execution_count": 11, 
                    "data": {
                        "text/html": "<iframe id=\"igraph\" scrolling=\"no\" style=\"border:none;\" seamless=\"seamless\" src=\"https://plot.ly/~ondrejkral/12.embed\" height=\"500px\" width=\"500px\"></iframe>", 
                        "text/plain": "<plotly.tools.PlotlyDisplay object>"
                    }, 
                    "metadata": {}
                }
            ], 
            "cell_type": "code", 
            "metadata": {}, 
            "source": "# Read data from a csv\nz_data = pd.read_csv('https://raw.githubusercontent.com/plotly/datasets/master/api_docs/mt_bruno_elevation.csv')\n\ndata = [\n    go.Surface(\n        z=z_data.as_matrix()\n    )\n]\nlayout = go.Layout(\n    title='Mt Bruno Elevation',\n    autosize=False,\n    width=500,\n    height=500,\n    margin=dict(\n        l=65,\n        r=50,\n        b=65,\n        t=90\n    )\n)\nfig = go.Figure(data=data, layout=layout)\npy.iplot(fig, filename='elevations-3d-surface')"
        }, 
        {
            "execution_count": null, 
            "outputs": [], 
            "cell_type": "code", 
            "metadata": {
                "collapsed": true
            }, 
            "source": ""
        }
    ], 
    "nbformat": 4
}