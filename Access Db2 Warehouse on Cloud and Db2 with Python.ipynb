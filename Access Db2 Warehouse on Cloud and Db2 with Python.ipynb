{
    "nbformat_minor": 1, 
    "cells": [
        {
            "cell_type": "markdown", 
            "metadata": {}, 
            "source": "# Access Db2 Warehouse on Cloud and Db2 with Python\n\nThis notebook shows how to access Db2 Warehouse on Cloud or a Db2 database when using Python. The examples use Db2 Warehouse on Cloud, but the instructions apply to both Db2 Warehouse on Cloud and Db2.\n\n## Table of contents\n\n1. [Setup](#Setup) \n1. [Import the *ibmdbpy* Python library](#Import-the-ibmdbpy-Python-library)\n1. [Identify and enter the database connection credentials](#Identify-and-enter-the-database-connection-credentials)\n1. [Create the database connection](#Create-the-database-connection)\n1. [Use dataframe to read and manipulate tables](#Use-dataframe-to-read-and-manipulate-tables)\n1. [Close the database connection](#Close-the-database-connection)\n1. [Summary](#Summary)\n\n\n## Setup\n\nBefore you begin you will need **Db2 Warehouse on Cloud** which is a fully-managed, enterprise-class, cloud data warehouse service, purpose-built for analytics. It offers massively parallel processing (MPP) scale and compatibility with a wide range of business intelligence (BI) tools.  \n\n[Try Db2 Warehouse on Cloud free of charge on IBM Bluemix.](https://console.ng.bluemix.net/catalog/services/dashdb)\n\n\n## Import the *ibmdbpy* Python library\n\nPython support for Db2 Warehouse on Cloud and Db2 is provided by the [ibmdbpy Python library](https://pypi.python.org/pypi/ibmdbpy). Connecting to Db2 Warehouse on Cloud or Db2 is also enabled by a Db2 driver, libdb2.so.\n\nThe JDBC Connection is based on a Java virtual machine. From the ibmdbpy library you can use JDBC to connect to a remote Db2 Warehouse on Cloud/Db2 instance. To be able to use JDBC to connect, we need to import the *JayDeBeApi* package.\n\nRun the following commands to install and load the JayDeBeApi package and the ibmdbpy library into your notebook:"
        }, 
        {
            "outputs": [
                {
                    "output_type": "stream", 
                    "name": "stdout", 
                    "text": "Requirement already satisfied: jaydebeapi in /usr/local/src/bluemix_jupyter_bundle.v70/notebook/lib/python2.7/site-packages\nRequirement already satisfied: JPype1 in /usr/local/src/bluemix_jupyter_bundle.v70/notebook/lib/python2.7/site-packages (from jaydebeapi)\nRequirement already satisfied: ibmdbpy in /usr/local/src/bluemix_jupyter_bundle.v70/notebook/lib/python2.7/site-packages\nRequirement already satisfied: future in /usr/local/src/bluemix_jupyter_bundle.v70/notebook/lib/python2.7/site-packages (from ibmdbpy)\nRequirement already satisfied: pandas in /usr/local/src/bluemix_jupyter_bundle.v70/notebook/lib/python2.7/site-packages (from ibmdbpy)\nRequirement already satisfied: numpy in /usr/local/src/bluemix_jupyter_bundle.v70/notebook/lib/python2.7/site-packages (from ibmdbpy)\nRequirement already satisfied: pypyodbc in /usr/local/src/bluemix_jupyter_bundle.v70/notebook/lib/python2.7/site-packages (from ibmdbpy)\nRequirement already satisfied: lazy in /usr/local/src/bluemix_jupyter_bundle.v70/notebook/lib/python2.7/site-packages (from ibmdbpy)\nRequirement already satisfied: six in /gpfs/global_fs01/sym_shared/YPProdSpark/user/s592-6f4f7c45de4f1c-20cd40afb201/.local/lib/python2.7/site-packages (from ibmdbpy)\nRequirement already satisfied: python-dateutil in /gpfs/global_fs01/sym_shared/YPProdSpark/user/s592-6f4f7c45de4f1c-20cd40afb201/.local/lib/python2.7/site-packages (from pandas->ibmdbpy)\nRequirement already satisfied: pytz>=2011k in /usr/local/src/bluemix_jupyter_bundle.v70/notebook/lib/python2.7/site-packages (from pandas->ibmdbpy)\nRequirement already satisfied: setuptools in /gpfs/global_fs01/sym_shared/YPProdSpark/user/s592-6f4f7c45de4f1c-20cd40afb201/.local/lib/python2.7/site-packages (from pypyodbc->ibmdbpy)\n"
                }
            ], 
            "cell_type": "code", 
            "metadata": {
                "scrolled": true
            }, 
            "source": "!pip install jaydebeapi --user  \n!pip install ibmdbpy --user ", 
            "execution_count": 1
        }, 
        {
            "outputs": [], 
            "cell_type": "code", 
            "metadata": {
                "scrolled": true, 
                "collapsed": true
            }, 
            "source": "import jaydebeapi\nfrom ibmdbpy import IdaDataBase\nfrom ibmdbpy import IdaDataFrame", 
            "execution_count": 2
        }, 
        {
            "outputs": [], 
            "cell_type": "code", 
            "metadata": {
                "scrolled": true, 
                "collapsed": true
            }, 
            "source": "import os\nos.environ['CLASSPATH'] = \"/usr/local/src/data-connectors-1.4.1/db2jcc4-10.5.0.6.jar\"", 
            "execution_count": 3
        }, 
        {
            "outputs": [], 
            "cell_type": "code", 
            "metadata": {
                "scrolled": true, 
                "collapsed": true
            }, 
            "source": "import jpype\nargs='-Djava.class.path=%s' % os.environ['CLASSPATH']\njvm = jpype.getDefaultJVMPath()\njpype.startJVM(jvm, args)", 
            "execution_count": 4
        }, 
        {
            "cell_type": "markdown", 
            "metadata": {}, 
            "source": "\n## Identify and enter the database connection credentials\n\nConnecting to Db2 Warehouse on Cloud or a Db2 database requires the following information:\n* Database name \n* Host DNS name or IP address \n* Host port\n* Connection protocol\n* User ID\n* User password\n\nAll of this information must be captured in a connection string in a subsequent step. Provide the Db2 Warehouse on Cloud or Db2 connection information as shown:"
        }, 
        {
            "outputs": [], 
            "cell_type": "code", 
            "metadata": {
                "scrolled": true, 
                "collapsed": true
            }, 
            "source": "dsn_uid = \"dash107444\";  # e.g.  db104434\ndsn_pwd = \"DtZNxC3aHSFr\"   # e.g. xxxx\ndsn_hostname =\"bluemix05.bluforcloud.com\"  # e.g.  awh-yp-small03.services.dal.bluemix.net\ndsn_port = \"50000\"   # e.g.  50001\ndsn_database = \"BLUDB\"   # e.g. BLUDB ", 
            "execution_count": 5
        }, 
        {
            "cell_type": "markdown", 
            "metadata": {}, 
            "source": "## Create the database connection\n\nThe following code snippet creates a connection string `connection_string`\nand uses the `connection_string` to create a Db2 connection object:\n"
        }, 
        {
            "outputs": [], 
            "cell_type": "code", 
            "metadata": {
                "scrolled": true, 
                "collapsed": true
            }, 
            "source": "connection_string='jdbc:db2://'+dsn_hostname+':'+dsn_port+'/'+dsn_database+':user='+dsn_uid+';password='+dsn_pwd+\";\" \nidadb=IdaDataBase(dsn=connection_string)", 
            "execution_count": 6
        }, 
        {
            "cell_type": "markdown", 
            "metadata": {}, 
            "source": "## Use dataframe to read and manipulate tables\n\nYou can now use the connection object `conn` to query the database:"
        }, 
        {
            "outputs": [
                {
                    "output_type": "execute_result", 
                    "metadata": {}, 
                    "data": {
                        "text/html": "<div>\n<table border=\"1\" class=\"dataframe\">\n  <thead>\n    <tr style=\"text-align: right;\">\n      <th></th>\n      <th>TABSCHEMA</th>\n      <th>TABNAME</th>\n      <th>OWNER</th>\n      <th>TYPE</th>\n    </tr>\n  </thead>\n  <tbody>\n    <tr>\n      <th>0</th>\n      <td>DASH107444</td>\n      <td>CONVERSION_RATE</td>\n      <td>DASH107444</td>\n      <td>T</td>\n    </tr>\n    <tr>\n      <th>1</th>\n      <td>DASH107444</td>\n      <td>CONVERSION_RATE_NEW</td>\n      <td>DASH107444</td>\n      <td>T</td>\n    </tr>\n    <tr>\n      <th>2</th>\n      <td>DASH107444</td>\n      <td>COUNTRY</td>\n      <td>DASH107444</td>\n      <td>T</td>\n    </tr>\n    <tr>\n      <th>3</th>\n      <td>DASH107444</td>\n      <td>COUNTRY_MULTILINGUAL</td>\n      <td>DASH107444</td>\n      <td>T</td>\n    </tr>\n    <tr>\n      <th>4</th>\n      <td>DASH107444</td>\n      <td>EURO_CONVERSION</td>\n      <td>DASH107444</td>\n      <td>T</td>\n    </tr>\n  </tbody>\n</table>\n</div>", 
                        "text/plain": "    TABSCHEMA               TABNAME       OWNER TYPE\n0  DASH107444       CONVERSION_RATE  DASH107444    T\n1  DASH107444   CONVERSION_RATE_NEW  DASH107444    T\n2  DASH107444               COUNTRY  DASH107444    T\n3  DASH107444  COUNTRY_MULTILINGUAL  DASH107444    T\n4  DASH107444       EURO_CONVERSION  DASH107444    T"
                    }, 
                    "execution_count": 7
                }
            ], 
            "cell_type": "code", 
            "metadata": {
                "scrolled": true
            }, 
            "source": "df=idadb.show_tables(show_all = True)\ndf.head(5)", 
            "execution_count": 7
        }, 
        {
            "outputs": [
                {
                    "output_type": "execute_result", 
                    "metadata": {}, 
                    "data": {
                        "text/plain": "True"
                    }, 
                    "execution_count": 8
                }
            ], 
            "cell_type": "code", 
            "metadata": {
                "scrolled": true
            }, 
            "source": "idadb.exists_table_or_view('GOSALESDW.EMP_EXPENSE_FACT')", 
            "execution_count": 8
        }, 
        {
            "cell_type": "markdown", 
            "metadata": {}, 
            "source": "Using our previously opened IdaDataBase instance named \u2018idadb\u2019, we can open one or several IdaDataFrame objects. They behave like pointers to remote tables.\n\nLet us open the *EMP_EXPENSE_FACT* data set, assuming it is stored in the database under the name \u2018GOSALESDW.EMP_EXPENSE_FACT\u2019. The following cell assigns the dataset to a pandas DataFrame.\n\nThe [Pandas data analysis library](http://pandas.pydata.org/) provides high-performance, easy-to-use data structures and data analysis tools for the Python programming language. Pandas allows easy processing and manipulation of tabular data, so it is a perfect fit for data extracted from relational databases.\n"
        }, 
        {
            "outputs": [], 
            "cell_type": "code", 
            "metadata": {
                "scrolled": true, 
                "collapsed": true
            }, 
            "source": "idadf = IdaDataFrame(idadb, 'GOSALESDW.EMP_EXPENSE_FACT')", 
            "execution_count": 9
        }, 
        {
            "cell_type": "markdown", 
            "metadata": {}, 
            "source": "You can very easily explore the data in the IdaDataFrame by using built in functions.\n\nUse IdaDataFrame.head to get the first n records of your data set (default 5):"
        }, 
        {
            "outputs": [
                {
                    "output_type": "execute_result", 
                    "metadata": {}, 
                    "data": {
                        "text/html": "<div>\n<table border=\"1\" class=\"dataframe\">\n  <thead>\n    <tr style=\"text-align: right;\">\n      <th></th>\n      <th>DAY_KEY</th>\n      <th>ORGANIZATION_KEY</th>\n      <th>POSITION_KEY</th>\n      <th>EMPLOYEE_KEY</th>\n      <th>EXPENSE_TYPE_KEY</th>\n      <th>ACCOUNT_KEY</th>\n      <th>EXPENSE_UNIT_QUANTITY</th>\n      <th>EXPENSE_TOTAL</th>\n    </tr>\n  </thead>\n  <tbody>\n    <tr>\n      <th>0</th>\n      <td>20100131</td>\n      <td>11135</td>\n      <td>43629</td>\n      <td>4682</td>\n      <td>2120</td>\n      <td>8052</td>\n      <td>0.08</td>\n      <td>271.33</td>\n    </tr>\n    <tr>\n      <th>1</th>\n      <td>20100131</td>\n      <td>11134</td>\n      <td>43635</td>\n      <td>4432</td>\n      <td>2120</td>\n      <td>8052</td>\n      <td>0.08</td>\n      <td>617.95</td>\n    </tr>\n    <tr>\n      <th>2</th>\n      <td>20100131</td>\n      <td>11134</td>\n      <td>43635</td>\n      <td>4432</td>\n      <td>2122</td>\n      <td>8054</td>\n      <td>0.11</td>\n      <td>849.68</td>\n    </tr>\n    <tr>\n      <th>3</th>\n      <td>20100131</td>\n      <td>11134</td>\n      <td>43635</td>\n      <td>4432</td>\n      <td>2124</td>\n      <td>8056</td>\n      <td>0.03</td>\n      <td>231.73</td>\n    </tr>\n    <tr>\n      <th>4</th>\n      <td>20100131</td>\n      <td>11134</td>\n      <td>43635</td>\n      <td>4432</td>\n      <td>2131</td>\n      <td>8049</td>\n      <td>165.00</td>\n      <td>7724.36</td>\n    </tr>\n  </tbody>\n</table>\n</div>", 
                        "text/plain": "    DAY_KEY  ORGANIZATION_KEY  POSITION_KEY  EMPLOYEE_KEY  EXPENSE_TYPE_KEY  \\\n0  20100131             11135         43629          4682              2120   \n1  20100131             11134         43635          4432              2120   \n2  20100131             11134         43635          4432              2122   \n3  20100131             11134         43635          4432              2124   \n4  20100131             11134         43635          4432              2131   \n\n   ACCOUNT_KEY  EXPENSE_UNIT_QUANTITY  EXPENSE_TOTAL  \n0         8052                   0.08         271.33  \n1         8052                   0.08         617.95  \n2         8054                   0.11         849.68  \n3         8056                   0.03         231.73  \n4         8049                 165.00        7724.36  "
                    }, 
                    "execution_count": 10
                }
            ], 
            "cell_type": "code", 
            "metadata": {
                "scrolled": true
            }, 
            "source": "idadf.head(5)", 
            "execution_count": 10
        }, 
        {
            "cell_type": "markdown", 
            "metadata": {}, 
            "source": "Use IdaDataFrame.tail to get the last n records of your data set (default 5):"
        }, 
        {
            "outputs": [
                {
                    "output_type": "execute_result", 
                    "metadata": {}, 
                    "data": {
                        "text/html": "<div>\n<table border=\"1\" class=\"dataframe\">\n  <thead>\n    <tr style=\"text-align: right;\">\n      <th></th>\n      <th>DAY_KEY</th>\n      <th>ORGANIZATION_KEY</th>\n      <th>POSITION_KEY</th>\n      <th>EMPLOYEE_KEY</th>\n      <th>EXPENSE_TYPE_KEY</th>\n      <th>ACCOUNT_KEY</th>\n      <th>EXPENSE_UNIT_QUANTITY</th>\n      <th>EXPENSE_TOTAL</th>\n    </tr>\n  </thead>\n  <tbody>\n    <tr>\n      <th>127979</th>\n      <td>20130731</td>\n      <td>11159</td>\n      <td>43638</td>\n      <td>4019</td>\n      <td>2120</td>\n      <td>8052</td>\n      <td>0.080</td>\n      <td>436.31</td>\n    </tr>\n    <tr>\n      <th>127980</th>\n      <td>20130731</td>\n      <td>11159</td>\n      <td>43638</td>\n      <td>4019</td>\n      <td>2122</td>\n      <td>8054</td>\n      <td>0.110</td>\n      <td>599.92</td>\n    </tr>\n    <tr>\n      <th>127981</th>\n      <td>20130731</td>\n      <td>11159</td>\n      <td>43638</td>\n      <td>4019</td>\n      <td>2124</td>\n      <td>8056</td>\n      <td>0.030</td>\n      <td>163.61</td>\n    </tr>\n    <tr>\n      <th>127982</th>\n      <td>20130731</td>\n      <td>11159</td>\n      <td>43638</td>\n      <td>4019</td>\n      <td>2130</td>\n      <td>8050</td>\n      <td>0.005</td>\n      <td>1566.01</td>\n    </tr>\n    <tr>\n      <th>127983</th>\n      <td>20130731</td>\n      <td>11159</td>\n      <td>43638</td>\n      <td>4019</td>\n      <td>2131</td>\n      <td>8049</td>\n      <td>146.250</td>\n      <td>3446.02</td>\n    </tr>\n  </tbody>\n</table>\n</div>", 
                        "text/plain": "         DAY_KEY  ORGANIZATION_KEY  POSITION_KEY  EMPLOYEE_KEY  \\\n127979  20130731             11159         43638          4019   \n127980  20130731             11159         43638          4019   \n127981  20130731             11159         43638          4019   \n127982  20130731             11159         43638          4019   \n127983  20130731             11159         43638          4019   \n\n        EXPENSE_TYPE_KEY  ACCOUNT_KEY  EXPENSE_UNIT_QUANTITY  EXPENSE_TOTAL  \n127979              2120         8052                  0.080         436.31  \n127980              2122         8054                  0.110         599.92  \n127981              2124         8056                  0.030         163.61  \n127982              2130         8050                  0.005        1566.01  \n127983              2131         8049                146.250        3446.02  "
                    }, 
                    "execution_count": 11
                }
            ], 
            "cell_type": "code", 
            "metadata": {
                "scrolled": true
            }, 
            "source": "idadf.tail(5)", 
            "execution_count": 11
        }, 
        {
            "cell_type": "markdown", 
            "metadata": {}, 
            "source": "__Note__: Because Db2 Warehouse on Cloud operates on a distributed system, the order of rows using IdaDataFrame.head and IdaDataFrame.tail is not guaranteed unless the table is sorted (using an \u2018ORDER BY\u2019 clause) or a column is declared as index for the IdaDataFrame (parameter/attribute indexer).\n\nIdaDataFrame also implements most attributes that are available in a pandas DataFrame:\n"
        }, 
        {
            "outputs": [
                {
                    "output_type": "execute_result", 
                    "metadata": {}, 
                    "data": {
                        "text/plain": "(127984, 8)"
                    }, 
                    "execution_count": 12
                }
            ], 
            "cell_type": "code", 
            "metadata": {
                "scrolled": true
            }, 
            "source": "idadf.shape", 
            "execution_count": 12
        }, 
        {
            "outputs": [
                {
                    "output_type": "execute_result", 
                    "metadata": {}, 
                    "data": {
                        "text/plain": "Index([u'DAY_KEY', u'ORGANIZATION_KEY', u'POSITION_KEY', u'EMPLOYEE_KEY',\n       u'EXPENSE_TYPE_KEY', u'ACCOUNT_KEY', u'EXPENSE_UNIT_QUANTITY',\n       u'EXPENSE_TOTAL'],\n      dtype='object')"
                    }, 
                    "execution_count": 13
                }
            ], 
            "cell_type": "code", 
            "metadata": {
                "scrolled": true
            }, 
            "source": "idadf.columns", 
            "execution_count": 13
        }, 
        {
            "cell_type": "markdown", 
            "metadata": {}, 
            "source": "Several standard statistics functions from the pandas interface are also available for IdaDataFrame. For example, let us calculate the covariance matrix for the iris data set:"
        }, 
        {
            "outputs": [
                {
                    "output_type": "execute_result", 
                    "metadata": {}, 
                    "data": {
                        "text/html": "<div>\n<table border=\"1\" class=\"dataframe\">\n  <thead>\n    <tr style=\"text-align: right;\">\n      <th></th>\n      <th>DAY_KEY</th>\n      <th>ORGANIZATION_KEY</th>\n      <th>POSITION_KEY</th>\n      <th>EMPLOYEE_KEY</th>\n      <th>EXPENSE_TYPE_KEY</th>\n      <th>ACCOUNT_KEY</th>\n      <th>EXPENSE_UNIT_QUANTITY</th>\n      <th>EXPENSE_TOTAL</th>\n    </tr>\n  </thead>\n  <tbody>\n    <tr>\n      <th>DAY_KEY</th>\n      <td>1.074445e+08</td>\n      <td>-1301.774305</td>\n      <td>-2699.336397</td>\n      <td>-74463.200864</td>\n      <td>-2541.104007</td>\n      <td>-88.733494</td>\n      <td>-2747.250164</td>\n      <td>338749.301508</td>\n    </tr>\n    <tr>\n      <th>ORGANIZATION_KEY</th>\n      <td>-1.301774e+03</td>\n      <td>977.978493</td>\n      <td>-60.746262</td>\n      <td>2228.417559</td>\n      <td>-27.240468</td>\n      <td>0.756326</td>\n      <td>11.186590</td>\n      <td>-2999.218552</td>\n    </tr>\n    <tr>\n      <th>POSITION_KEY</th>\n      <td>-2.699336e+03</td>\n      <td>-60.746262</td>\n      <td>148.234472</td>\n      <td>-2070.934630</td>\n      <td>10.284910</td>\n      <td>-1.006254</td>\n      <td>-13.697657</td>\n      <td>1101.107528</td>\n    </tr>\n    <tr>\n      <th>EMPLOYEE_KEY</th>\n      <td>-7.446320e+04</td>\n      <td>2228.417559</td>\n      <td>-2070.934630</td>\n      <td>89393.601947</td>\n      <td>-237.530049</td>\n      <td>39.144365</td>\n      <td>525.387975</td>\n      <td>47399.031411</td>\n    </tr>\n    <tr>\n      <th>EXPENSE_TYPE_KEY</th>\n      <td>-2.541104e+03</td>\n      <td>-27.240468</td>\n      <td>10.284910</td>\n      <td>-237.530049</td>\n      <td>88.103306</td>\n      <td>4.663223</td>\n      <td>26.490807</td>\n      <td>5577.918013</td>\n    </tr>\n    <tr>\n      <th>ACCOUNT_KEY</th>\n      <td>-8.873349e+01</td>\n      <td>0.756326</td>\n      <td>-1.006254</td>\n      <td>39.144365</td>\n      <td>4.663223</td>\n      <td>6.414971</td>\n      <td>-92.920363</td>\n      <td>-2669.484571</td>\n    </tr>\n    <tr>\n      <th>EXPENSE_UNIT_QUANTITY</th>\n      <td>-2.747250e+03</td>\n      <td>11.186590</td>\n      <td>-13.697657</td>\n      <td>525.387975</td>\n      <td>26.490807</td>\n      <td>-92.920363</td>\n      <td>3331.325768</td>\n      <td>76740.540006</td>\n    </tr>\n    <tr>\n      <th>EXPENSE_TOTAL</th>\n      <td>3.387493e+05</td>\n      <td>-2999.218552</td>\n      <td>1101.107528</td>\n      <td>47399.031411</td>\n      <td>5577.918013</td>\n      <td>-2669.484571</td>\n      <td>76740.540006</td>\n      <td>4321078.159027</td>\n    </tr>\n  </tbody>\n</table>\n</div>", 
                        "text/plain": "                            DAY_KEY  ORGANIZATION_KEY  POSITION_KEY  \\\nDAY_KEY                1.074445e+08      -1301.774305  -2699.336397   \nORGANIZATION_KEY      -1.301774e+03        977.978493    -60.746262   \nPOSITION_KEY          -2.699336e+03        -60.746262    148.234472   \nEMPLOYEE_KEY          -7.446320e+04       2228.417559  -2070.934630   \nEXPENSE_TYPE_KEY      -2.541104e+03        -27.240468     10.284910   \nACCOUNT_KEY           -8.873349e+01          0.756326     -1.006254   \nEXPENSE_UNIT_QUANTITY -2.747250e+03         11.186590    -13.697657   \nEXPENSE_TOTAL          3.387493e+05      -2999.218552   1101.107528   \n\n                       EMPLOYEE_KEY  EXPENSE_TYPE_KEY  ACCOUNT_KEY  \\\nDAY_KEY               -74463.200864      -2541.104007   -88.733494   \nORGANIZATION_KEY        2228.417559        -27.240468     0.756326   \nPOSITION_KEY           -2070.934630         10.284910    -1.006254   \nEMPLOYEE_KEY           89393.601947       -237.530049    39.144365   \nEXPENSE_TYPE_KEY        -237.530049         88.103306     4.663223   \nACCOUNT_KEY               39.144365          4.663223     6.414971   \nEXPENSE_UNIT_QUANTITY    525.387975         26.490807   -92.920363   \nEXPENSE_TOTAL          47399.031411       5577.918013 -2669.484571   \n\n                       EXPENSE_UNIT_QUANTITY   EXPENSE_TOTAL  \nDAY_KEY                         -2747.250164   338749.301508  \nORGANIZATION_KEY                   11.186590    -2999.218552  \nPOSITION_KEY                      -13.697657     1101.107528  \nEMPLOYEE_KEY                      525.387975    47399.031411  \nEXPENSE_TYPE_KEY                   26.490807     5577.918013  \nACCOUNT_KEY                       -92.920363    -2669.484571  \nEXPENSE_UNIT_QUANTITY            3331.325768    76740.540006  \nEXPENSE_TOTAL                   76740.540006  4321078.159027  "
                    }, 
                    "execution_count": 14
                }
            ], 
            "cell_type": "code", 
            "metadata": {
                "scrolled": true
            }, 
            "source": "idadf.cov()", 
            "execution_count": 14
        }, 
        {
            "cell_type": "markdown", 
            "metadata": {}, 
            "source": "It is possible to subset the rows of an IdaDataFrame by accessing the IdaDataFrame with a slice object. You can also use the IdaDataFrame.loc attribute, which contains an ibmdbpy.Loc object. However, the row selection might be inaccurate if the current IdaDataFrame is not sorted or does not contain an indexer. This is due to the fact that Db2 Warehouse on Cloud stores the data across several nodes if available. Moreover, because Db2 Warehouse on Cloud is a column oriented database, row numbers are undefined:"
        }, 
        {
            "outputs": [
                {
                    "output_type": "stream", 
                    "name": "stderr", 
                    "text": "/usr/local/src/bluemix_jupyter_bundle.v70/notebook/lib/python2.7/site-packages/ibmdbpy/indexing.py:118: UserWarning: Row order is not guaranteed if no indexer was given and the dataset was not sorted\n  \" was given and the dataset was not sorted\")\n"
                }, 
                {
                    "output_type": "execute_result", 
                    "metadata": {}, 
                    "data": {
                        "text/html": "<div>\n<table border=\"1\" class=\"dataframe\">\n  <thead>\n    <tr style=\"text-align: right;\">\n      <th></th>\n      <th>DAY_KEY</th>\n      <th>ORGANIZATION_KEY</th>\n      <th>POSITION_KEY</th>\n      <th>EMPLOYEE_KEY</th>\n      <th>EXPENSE_TYPE_KEY</th>\n      <th>ACCOUNT_KEY</th>\n      <th>EXPENSE_UNIT_QUANTITY</th>\n      <th>EXPENSE_TOTAL</th>\n    </tr>\n  </thead>\n  <tbody>\n    <tr>\n      <th>0</th>\n      <td>20110731</td>\n      <td>11131</td>\n      <td>43613</td>\n      <td>4808</td>\n      <td>2124</td>\n      <td>8056</td>\n      <td>0.03</td>\n      <td>59.00</td>\n    </tr>\n    <tr>\n      <th>1</th>\n      <td>20110731</td>\n      <td>11131</td>\n      <td>43613</td>\n      <td>4808</td>\n      <td>2137</td>\n      <td>8050</td>\n      <td>7.50</td>\n      <td>500.00</td>\n    </tr>\n    <tr>\n      <th>2</th>\n      <td>20110831</td>\n      <td>11131</td>\n      <td>43613</td>\n      <td>4808</td>\n      <td>2101</td>\n      <td>8049</td>\n      <td>172.50</td>\n      <td>1946.15</td>\n    </tr>\n    <tr>\n      <th>3</th>\n      <td>20110831</td>\n      <td>11131</td>\n      <td>43613</td>\n      <td>4808</td>\n      <td>2120</td>\n      <td>8052</td>\n      <td>0.08</td>\n      <td>165.92</td>\n    </tr>\n    <tr>\n      <th>4</th>\n      <td>20110831</td>\n      <td>11131</td>\n      <td>43613</td>\n      <td>4808</td>\n      <td>2114</td>\n      <td>8050</td>\n      <td>7.75</td>\n      <td>127.88</td>\n    </tr>\n  </tbody>\n</table>\n</div>", 
                        "text/plain": "    DAY_KEY  ORGANIZATION_KEY  POSITION_KEY  EMPLOYEE_KEY  EXPENSE_TYPE_KEY  \\\n0  20110731             11131         43613          4808              2124   \n1  20110731             11131         43613          4808              2137   \n2  20110831             11131         43613          4808              2101   \n3  20110831             11131         43613          4808              2120   \n4  20110831             11131         43613          4808              2114   \n\n   ACCOUNT_KEY  EXPENSE_UNIT_QUANTITY  EXPENSE_TOTAL  \n0         8056                   0.03          59.00  \n1         8050                   7.50         500.00  \n2         8049                 172.50        1946.15  \n3         8052                   0.08         165.92  \n4         8050                   7.75         127.88  "
                    }, 
                    "execution_count": 15
                }
            ], 
            "cell_type": "code", 
            "metadata": {
                "scrolled": true
            }, 
            "source": "idadf_new = idadf[0:9] # Select the first 10 rows\nidadf_new.head()", 
            "execution_count": 15
        }, 
        {
            "cell_type": "markdown", 
            "metadata": {}, 
            "source": "## Close the database connection\n\nTo ensure expected behaviors, IdaDataBase instances need to be closed. Closing the *IdaDataBase* is equivalent to closing the connection: once the connection is closed, it is no longer possible to use the *IdaDataBase* instance and any IdaDataFrame instances that were opened on this connection."
        }, 
        {
            "outputs": [
                {
                    "output_type": "stream", 
                    "name": "stdout", 
                    "text": "Connection closed.\n"
                }
            ], 
            "cell_type": "code", 
            "metadata": {
                "scrolled": true
            }, 
            "source": "idadb.close()", 
            "execution_count": 16
        }, 
        {
            "cell_type": "markdown", 
            "metadata": {}, 
            "source": "## Summary\n\nThis notebook demonstrated how to establish a connection to a Db2 Warehouse on Cloud / Db2 database from Python using the ibmdbpy library."
        }, 
        {
            "cell_type": "markdown", 
            "metadata": {}, 
            "source": "## Want to learn more?\n### Free courses on <a href=\"https://bigdatauniversity.com/courses/?utm_source=tutorial-dashdb-python&utm_medium=github&utm_campaign=bdu/\" rel=\"noopener noreferrer\" target=\"_blank\">Big Data University</a>: <a href=\"https://bigdatauniversity.com/courses/?utm_source=tutorial-dashdb-python&utm_medium=github&utm_campaign=bdu\" rel=\"noopener noreferrer\" target=\"_blank\"><img src = \"https://ibm.box.com/shared/static/xomeu7dacwufkoawbg3owc8wzuezltn6.png\" width=600px> </a>"
        }, 
        {
            "cell_type": "markdown", 
            "metadata": {}, 
            "source": "### Authors\n\n**Saeed Aghabozorgi**, PhD, is a Data Scientist in IBM with a track record of developing enterprise-level applications that substantially increases clients' ability to turn data into actionable knowledge. He is a researcher in the data mining field and an expert in developing advanced analytic methods like machine learning and statistical modelling on large data sets.\n\n**Polong Lin** is a Data Scientist at IBM in Canada. Under the Emerging Technologies division, Polong is responsible for educating the next generation of data scientists through Big Data University. Polong is a regular speaker in conferences and meetups, and holds an M.Sc. in Cognitive Psychology."
        }, 
        {
            "cell_type": "markdown", 
            "metadata": {}, 
            "source": "Copyright \u00a9 2016, 2017 Big Data University. This notebook and its source code are released under the terms of the <a href=\"https://bigdatauniversity.com/mit-license/\" rel=\"noopener noreferrer\" target=\"_blank\">MIT License</a>."
        }
    ], 
    "metadata": {
        "kernelspec": {
            "display_name": "Python 2 with Spark 2.0", 
            "name": "python2-spark20", 
            "language": "python"
        }, 
        "language_info": {
            "nbconvert_exporter": "python", 
            "file_extension": ".py", 
            "version": "2.7.11", 
            "name": "python", 
            "mimetype": "text/x-python", 
            "codemirror_mode": {
                "name": "ipython", 
                "version": 2
            }, 
            "pygments_lexer": "ipython2"
        }
    }, 
    "nbformat": 4
}