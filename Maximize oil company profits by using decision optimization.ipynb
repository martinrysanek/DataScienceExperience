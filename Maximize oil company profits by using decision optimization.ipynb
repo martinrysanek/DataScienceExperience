{
    "metadata": {
        "celltoolbar": "Dashboard", 
        "language_info": {
            "version": "2.7.11", 
            "codemirror_mode": {
                "version": 2, 
                "name": "ipython"
            }, 
            "nbconvert_exporter": "python", 
            "mimetype": "text/x-python", 
            "name": "python", 
            "pygments_lexer": "ipython2", 
            "file_extension": ".py"
        }, 
        "kernelspec": {
            "language": "python", 
            "display_name": "Python 2 with Spark 2.0", 
            "name": "python2-spark20"
        }
    }, 
    "nbformat": 4, 
    "cells": [
        {
            "metadata": {}, 
            "cell_type": "markdown", 
            "source": "# Maximize oil company profits by using decision optimization\n\nThis notebook includes everything you need to set up decision optimization engines.  You will learn to build mathematical programming models to determine the best methods of maintaining a high quality product for oil company customers while maximizing profits.\n\n\nWhen you compete this notebook, you'll have a foundational knowledge of Prescriptive Analytics, and some working examples of decision optimization.\n\n\nYou should have some familiarity with Python.\n\nYou will use publicly available data about oil production and delivery.\n\n"
        }, 
        {
            "metadata": {}, 
            "cell_type": "markdown", 
            "source": "## Learning goals\n\n* Explore data by using pandas DataFrame methods\n* Plot data by using the matplotlib package\n* Make informed decisions from mathematical models to maximize profits.\n"
        }, 
        {
            "metadata": {}, 
            "cell_type": "markdown", 
            "source": "## Table of contents\n\n- [How decision optimization can help](#How--decision-optimization-can-help)\n- [The problem](#The-problem:--Balance-production-to-profit)\n    - [Parameters of the problem](#The-parameters-of-the-problem)\n- [Setup](#Setup)\n    - [Step 1: Model the data](#Step-1:---Model-the-data)\n    - [Step 2: Install the packages](#Step-2:-Install-the-packages)\n    - [Step 3: Display the prepared data](#Step-3:-Display-the-prepared-data)  \n- [Set up the prescriptive model and run the analysis](#Set-up-the-prescriptive-model-and-run-the-analysis)    \n- [Summary](#Summary)\n"
        }, 
        {
            "metadata": {}, 
            "cell_type": "markdown", 
            "source": "## How  decision optimization can help\n\n\nPrescriptive analytics technology, which includes decision optimization,  recommends actions that are based on desired outcomes.  It takes into account specific scenarios, resources, and knowledge of past and current events. With this insight, your organization can make better decisions and have greater control of business outcomes.  \n\nPrescriptive analytics can lead you to insight-based actions. It creates value through synergy with predictive analytics, which analyzes data to predict future outcomes.  \n\nPrescriptive analytics then takes the insight that you've gained to the next level by suggesting the optimal way to handle that future situation. Organizations that can act fast in dynamic conditions and make superior decisions in uncertain environments gain a strong competitive advantage.  \n<br/>\n\nWith prescriptive analytics, you can achieve the following goals: \n\n* Automate the complex decisions and trade-offs to better manage your limited resources\n* Take advantage of a future opportunity or mitigate a future risk\n* Proactively update recommendations based on changing events\n* Meet operational goals, increase customer loyalty, prevent threats and fraud, and optimize business processes\n\n\n\n\n***"
        }, 
        {
            "metadata": {}, 
            "cell_type": "markdown", 
            "source": "<a id='section1'></a>\n## The problem:  Balance production to profit\n\n\n* An oil company manufactures different types of gasoline and diesel. Each type of gasoline is produced by blending different types of crude oils that must be purchased. The company must decide how much crude oil to buy to maximize its profits.  It must also respect processing capacities and quality levels.  And, finally, it must satisfy customer demand.\n\n* Blending problems are typical industry applications of Linear Programming (LP). \n    * LP can represent real life problems mathematically.  It uses an *objective function* to represent the goal that is to be minimized or maximized, and a set of *linear constraints* that define the conditions to be satisfied and the limitations of the real-life problem.  \n    * The *function* and *constraints* are expressed in terms of *decision variables*. \n    * The solution, which can be obtained from optimization engines such as IBM\u00ae ILOG\u00ae CPLEX\u00ae, provides the best values for these variables so that the objective function is optimized."
        }, 
        {
            "metadata": {}, 
            "cell_type": "markdown", 
            "source": "### The parameters of the problem\n\n* The oil-blending problem consists of calculating different blends of gasoline according to specific quality criteria.\n\n* There are three types of gasoline manufactured:\n    *  super \n    *  regular \n    *  diesel \n* The company produces each type of gasoline by blending three types of crude oil: \n    *  crude1\n    *  crude2 \n    *  crude3 \n* The potential blendings are constrained because the gasoline must satisfy some quality criteria with respect to their lead content and their octane ratings.\n* The company must satisfy its customer demand, which is: \n    * 3,000 barrels a day of super\n    * 2,000 barrels a day of regular\n    * 1,000 barrels a day of diesel\n* The company can purchase 5,000 barrels of each type of crude oil per day, and can process at most 14,000 barrels a day.\n* The company has the option of advertising a gasoline, which increases the demand for this type of gasoline by ten barrels for every dollar spent. \n* It costs four dollars to transform a barrel of oil into a barrel of gasoline.\n\nThe goal is to maximize profit, which comes from the sales of the final products minus total costs. The costs consist of the purchase cost of the crude oils, production costs, and inventory costs.\n"
        }, 
        {
            "metadata": {}, 
            "cell_type": "markdown", 
            "source": "## Setup\n"
        }, 
        {
            "metadata": {}, 
            "cell_type": "markdown", 
            "source": "<a id='section2'></a>\n### Step 1:   Model the data\n\nTo model the data, you must consider the following factors: \n\n* For each type of crude oil:\n    * What are the capacities that can be bought?\n    * What is the buying price?\n    * What are the octane and lead levels?\n    \n* For each type of gasoline or diesel:\n    * What is the customer demand?\n    * What are the selling prices?\n    * What are the octane and lead levels?\n\n* What is the maximum level of production that is imposed by the factory's limit and a fixed production cost?\n    \n* What are the inventory costs for each final product and the blending proportions?\n\nAssume that the marginal production cost and maximum production are identical for all oil types.\n"
        }, 
        {
            "metadata": {}, 
            "cell_type": "markdown", 
            "source": "### Step 2: Install the packages"
        }, 
        {
            "metadata": {}, 
            "cell_type": "markdown", 
            "source": "### 2.1: Download the modeling library\n\nRun the following code to install the Python package, Decision Optimization CPLEX Modeling library (DOcplex). The DOcplex library contains the two modeling packages, Mathematical Programming and Constraint Programming.  You will use this package to formulate the optimization model.\n"
        }, 
        {
            "execution_count": 1, 
            "metadata": {
                "collapsed": true
            }, 
            "cell_type": "code", 
            "source": "!pip install --user docplex -q", 
            "outputs": []
        }, 
        {
            "metadata": {}, 
            "cell_type": "markdown", 
            "source": "### 2.2: Set up the prescriptive engine\n\nTo solve the model, you will use a *solve service* on the cloud, which requires credentials.\n\nAccess the service by doing the following actions:\n1. Subscribe to the [Decision Optimization on Cloud solve service](https://developer.ibm.com/docloud).\n2. Get the service URL and your personal API key.\n3. Use the URL and key to initialize the DOcplex context as shown here:\n\n<div class=\"alert alert-block alert-info\">NOTE: Before you run the following code, make sure that you replace the value for **key** (*ENTER YOUR KEY HERE*) with the one you just received.</div>\n"
        }, 
        {
            "execution_count": 2, 
            "metadata": {}, 
            "cell_type": "code", 
            "source": "from docplex.mp.context import *\n\nurl= \"https://api-oaas.docloud.ibmcloud.com/job_manager/rest/v1/\"\nkey = \"ENTER YOUR KEY HERE\"\n\nctx = Context.make_default_context(url=url, key=key)", 
            "outputs": []
        }, 
        {
            "metadata": {
                "collapsed": true
            }, 
            "cell_type": "markdown", 
            "source": "Here is an example of what you should enter when you are subscribed:\n\n`from docplex.cp.model import *\nurl= \"https://api-oaas.docloud.ibmcloud.com/job_manager/rest/v1/\"\nkey = \"api_4227d2da-6453-4dcd-9bb7-4f567c38b4e9\"\n`"
        }, 
        {
            "metadata": {}, 
            "cell_type": "markdown", 
            "source": "\n\n### 2.3: Install the NumPy package\nInput data comes as NumPy arrays with two dimensions. [NumPy](http://www.numpy.org/) is the fundamental package for scientific computing with Python. So, first ensure that the NumPy package is installed:\n"
        }, 
        {
            "execution_count": 3, 
            "metadata": {}, 
            "cell_type": "code", 
            "source": "!pip install --user numpy -q", 
            "outputs": []
        }, 
        {
            "metadata": {}, 
            "cell_type": "markdown", 
            "source": "### 2.4: Set up a multidimensional array\n\nYou create the arrays with the [known information](#The-parameters-of-the-problem) so that you can begin to solve for the potential unknown scenarios.\n\nThe first dimension of the **NumPy array** is the number of gasoline types.  For each gasoline type,  a NumPy array exists that contains the following attributes:\n*  capacity \n*  price \n*  octane\n*  lead level\n\nYou set up the same kind of array where each oil type contains the following attributes:\n*  demand \n*  price \n*  octane\n*  lead level\n\nWhen you run the following set of code you define a string array of gas_names and oil_names, and then an array of gas_data and oil_data each with the integer attribute values.  The result is a display of the number of gasoline types and the number of crude types:\n"
        }, 
        {
            "execution_count": 4, 
            "metadata": {}, 
            "cell_type": "code", 
            "source": "import numpy as np\n\ngas_names = [\"super\", \"regular\", \"diesel\"]\n\ngas_data = np.array([[3000, 70, 10, 1], [2000, 60, 8, 2], [1000, 50, 6, 1]])\n\noil_names = [\"crude1\", \"crude2\", \"crude3\"]\n\noil_data = np.array([[5000, 45, 12, 0.5], [5000, 35, 6, 2], [5000, 25, 8, 3]])\n\nnb_gas  = len(gas_names)\nnb_oils = len(oil_names)\nrange_gas = range(nb_gas)\nrange_oil = range(nb_oils)\nprint(\"Number of gasoline types = {0}\".format(nb_gas))\nprint(\"Number of crude types = {0}\".format(nb_oils))\n\n# global data\nproduction_cost = 4\nproduction_max = 14000\n# each $1 spent on advertising increases demand by 10.\nadvert_return = 10", 
            "outputs": [
                {
                    "output_type": "stream", 
                    "name": "stdout", 
                    "text": "Number of gasoline types = 3\nNumber of crude types = 3\n"
                }
            ]
        }, 
        {
            "metadata": {}, 
            "cell_type": "markdown", 
            "source": "### 2.5: Install the pandas library\n\nInstall and import the [pandas](http://pandas.pydata.org/) library.  Pandas is an open source Python library for data analysis that you will use to store data. It contains data structures and data analysis tools for the Python programming language.  The pandas structures are built on top of NumPy."
        }, 
        {
            "execution_count": 5, 
            "metadata": {
                "collapsed": true
            }, 
            "cell_type": "code", 
            "source": "!pip install --user pandas -q", 
            "outputs": []
        }, 
        {
            "execution_count": 6, 
            "metadata": {}, 
            "cell_type": "code", 
            "source": "import pandas as pd\ngaspd = pd.DataFrame([(gas_names[i],int(gas_data[i][0]),int(gas_data[i][1]),int(gas_data[i][2]),int(gas_data[i][3])) \n                      for i in range_gas])\noilpd = pd.DataFrame([(oil_names[i],int(oil_data[i][0]),int(oil_data[i][1]),int(oil_data[i][2]),oil_data[i][3]) \n                      for i in range_oil])\ngaspd.columns = ['name','demand','price','octane','lead']\noilpd.columns= ['name','capacity','price','octane','lead']", 
            "outputs": []
        }, 
        {
            "metadata": {}, 
            "cell_type": "markdown", 
            "source": "Now use basic HTML and a stylesheet to format the data:"
        }, 
        {
            "execution_count": 7, 
            "metadata": {}, 
            "cell_type": "code", 
            "source": "CSS = \"\"\"\nbody {\n    margin: 0;\n    font-family: Helvetica;\n}\ntable.dataframe {\n    border-collapse: collapse;\n    border: none;\n}\ntable.dataframe tr {\n    border: none;\n}\ntable.dataframe td, table.dataframe th {\n    margin: 0;\n    border: 1px solid white;\n    padding-left: 0.25em;us\n    padding-right: 0.25em;\n}\ntable.dataframe th:not(:empty) {\n    background-color: #fec;\n    text-align: left;\n    font-weight: normal;\n}\ntable.dataframe tr:nth-child(2) th:empty {\n    border-left: none;\n    border-right: 1px dashed #888;\n}\ntable.dataframe td {\n    border: 2px solid #ccf;\n    background-color: #f4f4ff;\n}\n    table.dataframe thead th:first-child {\n        display: none;\n    }\n    table.dataframe tbody th {\n        display: none;\n    }\n\"\"\"\n\nfrom IPython.core.display import HTML\nHTML('<style>{}</style>'.format(CSS))", 
            "outputs": [
                {
                    "execution_count": 7, 
                    "metadata": {}, 
                    "data": {
                        "text/html": "<style>\nbody {\n    margin: 0;\n    font-family: Helvetica;\n}\ntable.dataframe {\n    border-collapse: collapse;\n    border: none;\n}\ntable.dataframe tr {\n    border: none;\n}\ntable.dataframe td, table.dataframe th {\n    margin: 0;\n    border: 1px solid white;\n    padding-left: 0.25em;us\n    padding-right: 0.25em;\n}\ntable.dataframe th:not(:empty) {\n    background-color: #fec;\n    text-align: left;\n    font-weight: normal;\n}\ntable.dataframe tr:nth-child(2) th:empty {\n    border-left: none;\n    border-right: 1px dashed #888;\n}\ntable.dataframe td {\n    border: 2px solid #ccf;\n    background-color: #f4f4ff;\n}\n    table.dataframe thead th:first-child {\n        display: none;\n    }\n    table.dataframe tbody th {\n        display: none;\n    }\n</style>", 
                        "text/plain": "<IPython.core.display.HTML object>"
                    }, 
                    "output_type": "execute_result"
                }
            ]
        }, 
        {
            "metadata": {}, 
            "cell_type": "markdown", 
            "source": "### Step 3: Display the prepared data\n\nNow, display the data that you just prepared."
        }, 
        {
            "execution_count": 8, 
            "metadata": {}, 
            "cell_type": "code", 
            "source": "from IPython.display import display\nprint(\"Gas data:\")\ndisplay(gaspd)\nprint(\"Oil data:\")\ndisplay(oilpd)", 
            "outputs": [
                {
                    "output_type": "stream", 
                    "name": "stdout", 
                    "text": "Gas data:\n"
                }, 
                {
                    "metadata": {}, 
                    "output_type": "display_data", 
                    "data": {
                        "text/html": "<div>\n<table border=\"1\" class=\"dataframe\">\n  <thead>\n    <tr style=\"text-align: right;\">\n      <th></th>\n      <th>name</th>\n      <th>demand</th>\n      <th>price</th>\n      <th>octane</th>\n      <th>lead</th>\n    </tr>\n  </thead>\n  <tbody>\n    <tr>\n      <th>0</th>\n      <td>super</td>\n      <td>3000</td>\n      <td>70</td>\n      <td>10</td>\n      <td>1</td>\n    </tr>\n    <tr>\n      <th>1</th>\n      <td>regular</td>\n      <td>2000</td>\n      <td>60</td>\n      <td>8</td>\n      <td>2</td>\n    </tr>\n    <tr>\n      <th>2</th>\n      <td>diesel</td>\n      <td>1000</td>\n      <td>50</td>\n      <td>6</td>\n      <td>1</td>\n    </tr>\n  </tbody>\n</table>\n</div>", 
                        "text/plain": "      name  demand  price  octane  lead\n0    super    3000     70      10     1\n1  regular    2000     60       8     2\n2   diesel    1000     50       6     1"
                    }
                }, 
                {
                    "output_type": "stream", 
                    "name": "stdout", 
                    "text": "Oil data:\n"
                }, 
                {
                    "metadata": {}, 
                    "output_type": "display_data", 
                    "data": {
                        "text/html": "<div>\n<table border=\"1\" class=\"dataframe\">\n  <thead>\n    <tr style=\"text-align: right;\">\n      <th></th>\n      <th>name</th>\n      <th>capacity</th>\n      <th>price</th>\n      <th>octane</th>\n      <th>lead</th>\n    </tr>\n  </thead>\n  <tbody>\n    <tr>\n      <th>0</th>\n      <td>crude1</td>\n      <td>5000</td>\n      <td>45</td>\n      <td>12</td>\n      <td>0.5</td>\n    </tr>\n    <tr>\n      <th>1</th>\n      <td>crude2</td>\n      <td>5000</td>\n      <td>35</td>\n      <td>6</td>\n      <td>2.0</td>\n    </tr>\n    <tr>\n      <th>2</th>\n      <td>crude3</td>\n      <td>5000</td>\n      <td>25</td>\n      <td>8</td>\n      <td>3.0</td>\n    </tr>\n  </tbody>\n</table>\n</div>", 
                        "text/plain": "     name  capacity  price  octane  lead\n0  crude1      5000     45      12   0.5\n1  crude2      5000     35       6   2.0\n2  crude3      5000     25       8   3.0"
                    }
                }
            ]
        }, 
        {
            "metadata": {}, 
            "cell_type": "markdown", 
            "source": "Your output should show you two tables:  one for gas data and one for oil data.  "
        }, 
        {
            "metadata": {}, 
            "cell_type": "markdown", 
            "source": "## Set up the prescriptive model and run the analysis"
        }, 
        {
            "metadata": {}, 
            "cell_type": "markdown", 
            "source": "When you have enough data, you can start to see patterns.  From the patterns, you can build a model of how the data works.  And then, with a model in hand, you can make optimized decisions.\n"
        }, 
        {
            "metadata": {}, 
            "cell_type": "markdown", 
            "source": "### Create DOcplex model\nYou need a model to store all the variables and constraints that are needed to formulate the business problem.  Then you submit the problem to the solve service.\n"
        }, 
        {
            "execution_count": 9, 
            "metadata": {}, 
            "cell_type": "code", 
            "source": "from docplex.mp.model import Model\n\nmdl = Model(name=\"oil_blending\",context=ctx)", 
            "outputs": []
        }, 
        {
            "metadata": {}, 
            "cell_type": "markdown", 
            "source": "<div class=\"alert alert-block alert-warning\">NOTE: You might see a warning message.  This is expected because DOcplex tries to solve by using a local engine.  When the local engine is not found, then the solve is submitted to a service that runs on the cloud (DOcplexCloud) by using the URL/key that you received. \n</div>"
        }, 
        {
            "metadata": {}, 
            "cell_type": "markdown", 
            "source": "### Create the decision variables\n\nA *decision variable* is a controllable input variable that represents some key decisions that you must make to achieve your goal. \n\nFor each combination of oil and gasoline, you must decide the quantity of oil to use to produce a gasoline. You use a decision variable to represent that amount. \n\nYou must create a matrix of continuous variables, indexed by the set of oils and the set of gasolines:\n\n"
        }, 
        {
            "execution_count": 10, 
            "metadata": {
                "collapsed": true
            }, 
            "cell_type": "code", 
            "source": "blends = mdl.continuous_var_matrix(keys1=nb_oils, keys2=nb_gas, lb=0)", 
            "outputs": []
        }, 
        {
            "metadata": {}, 
            "cell_type": "markdown", 
            "source": "You must also decide how much money should be spent in advertising for each type of gasoline. Create a list of continuous variables, indexed by the gasolines:\n"
        }, 
        {
            "execution_count": 11, 
            "metadata": {}, 
            "cell_type": "code", 
            "source": "adverts = mdl.continuous_var_list(nb_gas, lb=0)", 
            "outputs": []
        }, 
        {
            "metadata": {}, 
            "cell_type": "markdown", 
            "source": "### Express the business constraints\n\nThe business constraints are the following requirements:\n\n- The **demand** for each gasoline type must be satisfied. The total demand includes the initial demand as stored in the data, plus a variable demand caused by the advertising. The increase in demand is assumed to be proportional to the advertising cost. \n        For each gasoline type, the total quantity produced must equal the raw demand plus \n        the demand increase created by the advertising:\n"
        }, 
        {
            "execution_count": 12, 
            "metadata": {
                "collapsed": true
            }, 
            "cell_type": "code", 
            "source": "for g in range(nb_gas):\n    # gasoline demand is numpy array field #0\n    gas_demand = gas_data[g][0]\n    mdl.add_constraint(mdl.sum(blends[o, g] for o in range(nb_oils)) == gas_demand + advert_return * adverts[g])", 
            "outputs": []
        }, 
        {
            "metadata": {}, 
            "cell_type": "markdown", 
            "source": "- The **capacity** constraint on each oil type must also be satisfied.\n        For each type of oil, the total quantity used in all types of gasolines must \n        not exceed the maximum capacity for this oil:"
        }, 
        {
            "execution_count": 13, 
            "metadata": {
                "collapsed": true
            }, 
            "cell_type": "code", 
            "source": "for o in range_oil:\n    mdl.add_constraint(mdl.sum(blends[o,g] for g in range_gas) <= oil_data[o][0])", 
            "outputs": []
        }, 
        {
            "metadata": {}, 
            "cell_type": "markdown", 
            "source": "- For each gasoline type, the **octane level** must be above a minimum level, and the **lead level** must be below a maximum level:\n       "
        }, 
        {
            "execution_count": 14, 
            "metadata": {
                "collapsed": true
            }, 
            "cell_type": "code", 
            "source": "# minimum octane level\nfor g in range_gas:\n    gas_octane = gas_data[g][2]\n    mdl.add_constraint(mdl.sum(blends[o,g]*(oil_data[o][2] - gas_octane) for o in range_oil) >= 0)\n    \n# maximum lead  level\nfor g in range_gas:\n    gas_lead = gas_data[g][3]\n    mdl.add_constraint(mdl.sum(blends[o,g]*(oil_data[o][3] - gas_lead) for o in range_oil) <= 0)", 
            "outputs": []
        }, 
        {
            "metadata": {}, 
            "cell_type": "markdown", 
            "source": "\n+ The total production must not exceed the maximum (which is defined as 14000 barrels per day):"
        }, 
        {
            "execution_count": 15, 
            "metadata": {}, 
            "cell_type": "code", 
            "source": "# -- maximum global production\nmdl.add_constraint(mdl.sum(blends) <= production_max)\n\nmdl.print_information()", 
            "outputs": [
                {
                    "output_type": "stream", 
                    "name": "stdout", 
                    "text": "Model: oil_blending\n - number of variables: 12\n   - binary=0, integer=0, continuous=12\n - number of constraints: 13\n -   LE=7, EQ=3, GE=3, RNG=0\n - parameters: defaults\n"
                }
            ]
        }, 
        {
            "metadata": {}, 
            "cell_type": "markdown", 
            "source": "## Define key performance indicators (KPI)\n\n\nThe objective or goal of the model is to maximize profit.  \n    * Profit is made from the sales of the final products minus total costs. \n    * The costs consist of the purchase cost of the crude oils, production costs, and inventory costs.\n    \nThe model maximizes the net revenue.  \n    * Net revenue is revenue minus oil cost and production cost.  \n    * Then, subtract the total advertising cost.\n\nTherefore, to define the business objective,  define a few *key performance indicators* (KPIs):\n\n* Total advertising cost\n- Total oil cost\n- Total production cost\n- Total revenue"
        }, 
        {
            "execution_count": 16, 
            "metadata": {
                "collapsed": true
            }, 
            "cell_type": "code", 
            "source": "# KPIs\ntotal_advert_cost = mdl.sum(adverts)\nmdl.add_kpi(total_advert_cost, \"Total advertising cost\")\ntotal_oil_cost = mdl.sum(blends[o,g] * oil_data[o][1] for o in range_oil for g in range_gas)\nmdl.add_kpi(total_oil_cost, \"Total Oil cost\")\ntotal_production_cost = production_cost * mdl.sum(blends)\nmdl.add_kpi(total_production_cost, \"Total production cost\")\ntotal_revenue = mdl.sum(blends[o,g] * gas_data[g][1] for g in range(nb_gas) for o in range(nb_oils))\nmdl.add_kpi(total_revenue, \"Total revenue\")\n\n# finally the objective\nmdl.maximize(total_revenue - total_oil_cost - total_production_cost - total_advert_cost)", 
            "outputs": []
        }, 
        {
            "metadata": {}, 
            "cell_type": "markdown", 
            "source": "### Call the CPLEX solve service\nSolve the model on the cloud by running a solve method of the CPLEX solve service that solves the current model.\n\nThe  model was created with a context that contained the CPLEX subscription with the URL and key of the solve service.  So, you do not need to specify the context, the URL,  or the API key again when you call the solve() method.\n\nDisplay the objective and the KPI values after the solve by calling the method report() on the model.\n"
        }, 
        {
            "execution_count": 17, 
            "metadata": {}, 
            "cell_type": "code", 
            "source": "mdl.solve()\nmdl.report()", 
            "outputs": [
                {
                    "output_type": "stream", 
                    "name": "stdout", 
                    "text": "* model solved with objective: 287750.000\n* KPI: Total advertising cost=750.000\n* KPI: Total Oil cost=487500.000\n* KPI: Total production cost=54000.000\n* KPI: Total revenue=830000.000\n"
                }
            ]
        }, 
        {
            "metadata": {}, 
            "cell_type": "markdown", 
            "source": "<a id='section4'></a>\n### Analyze and display the solution\n\n\nFirst, get the KPI values and store them in a Pandas DataFrame:"
        }, 
        {
            "execution_count": 18, 
            "metadata": {}, 
            "cell_type": "code", 
            "source": "all_kpis = [(kp.name, kp.compute()) for kp in mdl.iter_kpis()]\nkpis_bd = pd.DataFrame(all_kpis, columns=['kpi', 'value'])", 
            "outputs": []
        }, 
        {
            "execution_count": 19, 
            "metadata": {
                "collapsed": true
            }, 
            "cell_type": "code", 
            "source": "blend_values = [ [ blends[o,g].solution_value for g in range_gas] for o in range_oil]\ntotal_gas_prods = [sum(blend_values[o][g] for o in range_oil) for g in range_gas]\n\nprods = zip(gas_names, total_gas_prods)\nprods_bd = pd.DataFrame(prods)", 
            "outputs": []
        }, 
        {
            "metadata": {}, 
            "cell_type": "markdown", 
            "source": "Then,  display some KPIs in pie charts by using the [matplotlib](http://matplotlib.org/) Python package.\n"
        }, 
        {
            "execution_count": 20, 
            "metadata": {
                "collapsed": true
            }, 
            "cell_type": "code", 
            "source": "!pip install --user matplotlib -q", 
            "outputs": []
        }, 
        {
            "execution_count": 21, 
            "metadata": {}, 
            "cell_type": "code", 
            "source": "%matplotlib inline\nimport matplotlib.pyplot as plt\ndef display_pie(pie_values, pie_labels, colors=None):\n    plt.axis(\"equal\")\n    plt.pie(pie_values, labels=pie_labels, colors=colors, autopct=\"%1.1f%%\")\n    plt.show()\n    \nprint(\"KPIs: Revenue - Oil Cost - Production Cost\")\n                                                       \ndisplay_pie( [kpnv[1] for kpnv in all_kpis], [kpnv[0] for kpnv in all_kpis])", 
            "outputs": [
                {
                    "output_type": "stream", 
                    "name": "stdout", 
                    "text": "KPIs: Revenue - Oil Cost - Production Cost\n"
                }, 
                {
                    "metadata": {}, 
                    "output_type": "display_data", 
                    "data": {
                        "text/plain": "<matplotlib.figure.Figure at 0x7fced9b9be90>", 
                        "image/png": "[encoded data removed]"
                    }
                }
            ]
        }, 
        {
            "metadata": {}, 
            "cell_type": "markdown", 
            "source": "##### Production output\n\nYou see from the result of the following code that the most produced gasoline type is by far **regular**:\n"
        }, 
        {
            "execution_count": 22, 
            "metadata": {}, 
            "cell_type": "code", 
            "source": "display_pie(total_gas_prods, gas_names, colors=[\"green\", \"goldenrod\", \"lightGreen\"])", 
            "outputs": [
                {
                    "metadata": {}, 
                    "output_type": "display_data", 
                    "data": {
                        "text/plain": "<matplotlib.figure.Figure at 0x7fced9b7b590>", 
                        "image/png": "[encoded data removed]"
                    }
                }
            ]
        }, 
        {
            "metadata": {}, 
            "cell_type": "markdown", 
            "source": "\n\nNow,  plot the breakdown of oil blend quantities per gasoline type.\nYou will use a multiple bar chart diagram that displays all blend values for each pairing of oil with a gasoline type.\n"
        }, 
        {
            "execution_count": 23, 
            "metadata": {
                "collapsed": true
            }, 
            "cell_type": "code", 
            "source": "sblends = [(gas_names[n], oil_names[o], round(blends[o,n].solution_value)) for n in range_gas for o in range_oil]\n\nblends_bd = pd.DataFrame(sblends)", 
            "outputs": []
        }, 
        {
            "execution_count": 24, 
            "metadata": {}, 
            "cell_type": "code", 
            "source": "print(\"*** Blend Repartition ***\")\nf, barplot = plt.subplots(1, figsize=(16,5))\n\nbar_width = 0.1\noffset = 0.12\nrho = 0.7\n\n# position ofg left-bar boundaries\nbar_l = [o for o in range_oil]\n\nmbar_w = 3*bar_width+2*max(0, offset-bar_width)\n\ntick_pos = [b*rho + mbar_w/2.0 for b in bar_l]\n\ncolors = ['olive', 'lightgreen', 'cadetblue']\n\nfor i in range_oil:\n    barplot.bar([b*rho + (i*offset) for b in bar_l], \n                blend_values[i], width=bar_width, color=colors[i], label=oil_names[i])\n\nplt.xticks(tick_pos, gas_names)\nbarplot.set_xlabel(\"gasolines\")\nbarplot.set_ylabel(\"blend\")\nplt.legend(loc=\"upper right\")\n                                                                          \n\n# Set a buffer around the edge\nplt.xlim([0, max(tick_pos)+mbar_w +0.5])\n\nplt.show()", 
            "outputs": [
                {
                    "output_type": "stream", 
                    "name": "stdout", 
                    "text": "*** Blend Repartition ***\n"
                }, 
                {
                    "metadata": {}, 
                    "output_type": "display_data", 
                    "data": {
                        "text/plain": "<matplotlib.figure.Figure at 0x7fced3121cd0>", 
                        "image/png": "[encoded data removed]"
                    }
                }
            ]
        }, 
        {
            "metadata": {}, 
            "cell_type": "markdown", 
            "source": "<p class=\"alert alert-block alert-info\"> Notice the missing bar for (crude2, diesel); this result is expected since blend[crude2, diesel] is zero in the solution.</p>\n\n\nCheck the solution value of blends for **crude2** and **diesel**; remember that **crude2** has offset 1 and **diesel** has offset 2.\n\n\n<p class=\"alert alert-block alert-info\"> You can see  how the decision variable is automatically converted to a floating point data type.  If you had run the report method before you submitted the solve method, this report would raise an exception since no solution value would be present.</p>\n"
        }, 
        {
            "execution_count": 25, 
            "metadata": {}, 
            "cell_type": "code", 
            "source": "print(\"* value of blend[crude2, diesel] is %g\" % blends[1,2])", 
            "outputs": [
                {
                    "output_type": "stream", 
                    "name": "stdout", 
                    "text": "* value of blend[crude2, diesel] is 0\n"
                }
            ]
        }, 
        {
            "metadata": {}, 
            "cell_type": "markdown", 
            "source": "## Summary\n\nFrom the current model, you can see how much of each gasoline type,  with a particular quantity of each crude, that you can produce to get a maximized revenue of 830000 dollars.  You can change some of the constraints or the known variables to see different outcomes.  For example, increase the number of oil types, or change the initial cost of the fuel, then rerun the methods to present a different picture.\n\n\n\n"
        }, 
        {
            "metadata": {}, 
            "cell_type": "markdown", 
            "source": "*****\n# Thanks for completing this notebook!\n*****\nYou learned how to:\n* Set up and use the IBM Decision Optimization CPLEX Modeling for Python to help in a predictive analysis of maximizing oil profits.\n* Explore data by using pandas DataFrame methods\n* Plot data by using the matplotlib package\n* Use the tools to make informed decisions from mathematical models.\n\n\nUseful links:\n- [CPLEX Modeling for Python documentation](https://rawgit.com/IBMDecisionOptimization/docplex-doc/master/docs/index.html)\n- [Decision Optimization on Cloud](https://developer.ibm.com/docloud/)\n- [Prescriptive Analytics Cookbook](discovering_optimization.ipynb)\n*****"
        }, 
        {
            "execution_count": null, 
            "metadata": {
                "collapsed": true
            }, 
            "cell_type": "code", 
            "source": "", 
            "outputs": []
        }
    ], 
    "nbformat_minor": 1
}