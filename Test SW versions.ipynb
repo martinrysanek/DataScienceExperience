{
    "metadata": {
        "language_info": {
            "file_extension": ".py", 
            "mimetype": "text/x-python", 
            "codemirror_mode": {
                "version": 2, 
                "name": "ipython"
            }, 
            "pygments_lexer": "ipython2", 
            "name": "python", 
            "version": "2.7.11", 
            "nbconvert_exporter": "python"
        }, 
        "kernelspec": {
            "display_name": "Python 2 with Spark 2.1", 
            "language": "python", 
            "name": "python2-spark21"
        }
    }, 
    "cells": [
        {
            "outputs": [
                {
                    "output_type": "stream", 
                    "text": "pip 9.0.1 from /usr/local/src/bluemix_jupyter_bundle.v70/notebook/lib/python2.7/site-packages (python 2.7)\r\n", 
                    "name": "stdout"
                }
            ], 
            "cell_type": "code", 
            "source": "!pip  --version", 
            "execution_count": 1, 
            "metadata": {}
        }, 
        {
            "outputs": [
                {
                    "output_type": "stream", 
                    "text": "4.3.0\r\n", 
                    "name": "stdout"
                }
            ], 
            "cell_type": "code", 
            "source": "!jupyter --version", 
            "execution_count": 2, 
            "metadata": {}
        }, 
        {
            "outputs": [
                {
                    "output_type": "stream", 
                    "text": "Available kernels:\r\n  python2            /gpfs/fs01/user/s592-6f4f7c45de4f1c-20cd40afb201/notebook/jupyter-data/kernels/python2\r\n  python2-spark20    /gpfs/fs01/user/s592-6f4f7c45de4f1c-20cd40afb201/notebook/jupyter-data/kernels/python2-spark20\r\n  python2-spark21    /gpfs/fs01/user/s592-6f4f7c45de4f1c-20cd40afb201/notebook/jupyter-data/kernels/python2-spark21\r\n  python3            /gpfs/fs01/user/s592-6f4f7c45de4f1c-20cd40afb201/notebook/jupyter-data/kernels/python3\r\n  python3-spark20    /gpfs/fs01/user/s592-6f4f7c45de4f1c-20cd40afb201/notebook/jupyter-data/kernels/python3-spark20\r\n  python3-spark21    /gpfs/fs01/user/s592-6f4f7c45de4f1c-20cd40afb201/notebook/jupyter-data/kernels/python3-spark21\r\n  r                  /gpfs/fs01/user/s592-6f4f7c45de4f1c-20cd40afb201/notebook/jupyter-data/kernels/r\r\n  r-spark20          /gpfs/fs01/user/s592-6f4f7c45de4f1c-20cd40afb201/notebook/jupyter-data/kernels/r-spark20\r\n  r-spark21          /gpfs/fs01/user/s592-6f4f7c45de4f1c-20cd40afb201/notebook/jupyter-data/kernels/r-spark21\r\n  scala              /gpfs/fs01/user/s592-6f4f7c45de4f1c-20cd40afb201/notebook/jupyter-data/kernels/scala\r\n  scala-spark20      /gpfs/fs01/user/s592-6f4f7c45de4f1c-20cd40afb201/notebook/jupyter-data/kernels/scala-spark20\r\n  scala-spark21      /gpfs/fs01/user/s592-6f4f7c45de4f1c-20cd40afb201/notebook/jupyter-data/kernels/scala-spark21\r\n", 
                    "name": "stdout"
                }
            ], 
            "cell_type": "code", 
            "source": "!jupyter pixiedust list", 
            "execution_count": 3, 
            "metadata": {}
        }, 
        {
            "outputs": [], 
            "cell_type": "code", 
            "source": "", 
            "execution_count": null, 
            "metadata": {
                "collapsed": true
            }
        }
    ], 
    "nbformat": 4, 
    "nbformat_minor": 1
}